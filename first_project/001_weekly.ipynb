{
 "cells": [
  {
   "cell_type": "markdown",
   "id": "4a78a1dd",
   "metadata": {},
   "source": [
    "###### 전처리"
   ]
  },
  {
   "cell_type": "code",
   "execution_count": 2,
   "id": "e567a8dd",
   "metadata": {
    "scrolled": true
   },
   "outputs": [],
   "source": [
    "import pandas as pd\n",
    "from plotly.subplots import make_subplots\n",
    "import plotly.graph_objects as go\n",
    "import datetime\n",
    "from datetime import date\n",
    "import holidays\n",
    "\n",
    "corona=pd.read_csv('./DATA/002_2.COVID-19.csv', encoding='utf-8', parse_dates=['DATE'])\n",
    "subway=pd.read_csv('./DATA/002_1.DAILY_SUBWAY_INFO.csv', encoding='utf-8', parse_dates=['date'])\n",
    "step=pd.read_csv('./DATA/001_3.CSV_SOCIAL_DISTANCE_STEP.csv', encoding='utf-8', parse_dates=['date'])\n",
    "\n",
    "# df : DataFrame\n",
    "# df.index : datetime64 type\n",
    "# start, end : str('YYYY-MM-DD')\n",
    "def slicing(df, start, end):\n",
    "    dateRange = pd.date_range(start, end)\n",
    "    return df[df['date'].isin(dateRange)]\n",
    "\n",
    "# 일일 확진자 수 전처리\n",
    "corona['DATE']= corona['DATE'].astype('str')\n",
    "corona['DATE'] = pd.to_datetime(corona['DATE'])\n",
    "corona.rename(columns= {'ID' : 'corona'}, inplace=True)\n",
    "coro_seoul = corona.groupby(['DATE']).count()\n",
    "coro_seoul.insert(0, 'date', coro_seoul.index)\n",
    "coro_seoul = coro_seoul[{'date', 'corona'}]\n",
    "\n",
    "\n",
    "# 전철 이용자 수 전처리 (2019-01-01 ~ 2021-07-31)\n",
    "subway['date']= subway['date'].astype('str')\n",
    "subway['date'] = pd.to_datetime(subway['date'])\n",
    "\n",
    "# 거리두기단계 전처리\n",
    "step['date']= step['date'].astype('str')\n",
    "step['date'] = pd.to_datetime(step['date'])\n",
    "\n",
    "# df에 coro_seoul, subway 합치기\n",
    "df = pd.merge(subway, coro_seoul, how='outer', on='date')\n",
    "df = df.fillna(0)\n",
    "\n",
    "# df에 step 합치기\n",
    "df = pd.merge(df, step, how='outer', on='date')\n",
    "df.columns = ['date', 'on_num', 'off_num', 'total', 'corona', 'step']\n",
    "df = df.fillna(0)\n",
    "\n",
    "df['total'].astype('float64')\n",
    "df['corona'].astype('float64')\n",
    "\n",
    "# df_biz : Business day (법정공휴일, 주말 제외)\n",
    "holidays = holidays.Korea()\n",
    "datetime.date(2019, 1, 1) in holidays\n",
    "datetime.date(2020, 1, 1) in holidays\n",
    "datetime.date(2021, 1, 1) in holidays\n",
    "df_biz = df[~df['date'].isin(list(holidays.keys()))]\n",
    "df_biz = df_biz[df_biz['date'].dt.dayofweek < 5].copy()\n",
    "df_biz = df_biz.set_index('date')\n",
    "df = df.set_index('date')\n",
    "\n",
    "# df_week : 주 단위로 묶기 (평균, 합계, 합계)\n",
    "df_week = pd.DataFrame()\n",
    "df_week['total'] = df_biz['total'].resample('7D').mean()\n",
    "df_week['corona'] = df.drop(df.index[0]).resample('7D').sum()['corona']\n",
    "df_week['on_num'] = df_biz['on_num'].resample('7D').mean()\n",
    "df_week['step'] = df_biz['step'].resample('7D').max()\n",
    "\n",
    "df_week=df_week.reset_index()"
   ]
  },
  {
   "cell_type": "markdown",
   "id": "2fe14530",
   "metadata": {},
   "source": [
    "###### 시각화"
   ]
  },
  {
   "cell_type": "code",
   "execution_count": 6,
   "id": "71660acf",
   "metadata": {},
   "outputs": [
    {
     "name": "stdout",
     "output_type": "stream",
     "text": [
      "년월일을 2회 입력하여\n",
      "그래프에 나타낼 날짜 범위를 설정하세요.\n",
      "형식: 'YYYY-MM-DD'\n",
      "변수를 2회 입력하여 그래프에 나타낼 변수를 설정하세요.\n",
      "변수 목록: 1.확진자 수 2.전철이용자 수 3.거리두기 단계\n",
      "숫자 한 개 씩 2회 입력\n"
     ]
    },
    {
     "data": {
      "application/vnd.plotly.v1+json": {
       "config": {
        "plotlyServerURL": "https://plot.ly"
       },
       "data": [
        {
         "line": {
          "color": "royalblue",
          "width": 1
         },
         "mode": "lines",
         "name": "확진자 수",
         "type": "scatter",
         "x": [
          "2020-01-01T00:00:00",
          "2020-01-08T00:00:00",
          "2020-01-15T00:00:00",
          "2020-01-22T00:00:00",
          "2020-01-29T00:00:00",
          "2020-02-05T00:00:00",
          "2020-02-12T00:00:00",
          "2020-02-19T00:00:00",
          "2020-02-26T00:00:00",
          "2020-03-04T00:00:00",
          "2020-03-11T00:00:00",
          "2020-03-18T00:00:00",
          "2020-03-25T00:00:00",
          "2020-04-01T00:00:00"
         ],
         "xaxis": "x",
         "y": [
          0,
          0,
          0,
          0,
          1.2,
          0.8,
          0,
          5.8,
          7.4,
          17.4,
          11,
          12.8,
          17,
          14.8
         ],
         "yaxis": "y"
        },
        {
         "mode": "lines",
         "name": "전철이용자 수",
         "type": "scatter",
         "x": [
          "2020-01-01T00:00:00",
          "2020-01-08T00:00:00",
          "2020-01-15T00:00:00",
          "2020-01-22T00:00:00",
          "2020-01-29T00:00:00",
          "2020-02-05T00:00:00",
          "2020-02-12T00:00:00",
          "2020-02-19T00:00:00",
          "2020-02-26T00:00:00",
          "2020-03-04T00:00:00",
          "2020-03-11T00:00:00",
          "2020-03-18T00:00:00",
          "2020-03-25T00:00:00",
          "2020-04-01T00:00:00"
         ],
         "xaxis": "x",
         "y": [
          15654681.5,
          16198547.6,
          16309582.2,
          15189399,
          14688267,
          14009898.8,
          14546996,
          13137736.6,
          10372522.2,
          10290419,
          10423681.4,
          10693489.6,
          10877329.2,
          11097518.4
         ],
         "yaxis": "y2"
        }
       ],
       "layout": {
        "autosize": false,
        "font": {
         "family": "Malgun Gothic",
         "size": 12
        },
        "height": 600,
        "template": {
         "data": {
          "bar": [
           {
            "error_x": {
             "color": "#2a3f5f"
            },
            "error_y": {
             "color": "#2a3f5f"
            },
            "marker": {
             "line": {
              "color": "#E5ECF6",
              "width": 0.5
             },
             "pattern": {
              "fillmode": "overlay",
              "size": 10,
              "solidity": 0.2
             }
            },
            "type": "bar"
           }
          ],
          "barpolar": [
           {
            "marker": {
             "line": {
              "color": "#E5ECF6",
              "width": 0.5
             },
             "pattern": {
              "fillmode": "overlay",
              "size": 10,
              "solidity": 0.2
             }
            },
            "type": "barpolar"
           }
          ],
          "carpet": [
           {
            "aaxis": {
             "endlinecolor": "#2a3f5f",
             "gridcolor": "white",
             "linecolor": "white",
             "minorgridcolor": "white",
             "startlinecolor": "#2a3f5f"
            },
            "baxis": {
             "endlinecolor": "#2a3f5f",
             "gridcolor": "white",
             "linecolor": "white",
             "minorgridcolor": "white",
             "startlinecolor": "#2a3f5f"
            },
            "type": "carpet"
           }
          ],
          "choropleth": [
           {
            "colorbar": {
             "outlinewidth": 0,
             "ticks": ""
            },
            "type": "choropleth"
           }
          ],
          "contour": [
           {
            "colorbar": {
             "outlinewidth": 0,
             "ticks": ""
            },
            "colorscale": [
             [
              0,
              "#0d0887"
             ],
             [
              0.1111111111111111,
              "#46039f"
             ],
             [
              0.2222222222222222,
              "#7201a8"
             ],
             [
              0.3333333333333333,
              "#9c179e"
             ],
             [
              0.4444444444444444,
              "#bd3786"
             ],
             [
              0.5555555555555556,
              "#d8576b"
             ],
             [
              0.6666666666666666,
              "#ed7953"
             ],
             [
              0.7777777777777778,
              "#fb9f3a"
             ],
             [
              0.8888888888888888,
              "#fdca26"
             ],
             [
              1,
              "#f0f921"
             ]
            ],
            "type": "contour"
           }
          ],
          "contourcarpet": [
           {
            "colorbar": {
             "outlinewidth": 0,
             "ticks": ""
            },
            "type": "contourcarpet"
           }
          ],
          "heatmap": [
           {
            "colorbar": {
             "outlinewidth": 0,
             "ticks": ""
            },
            "colorscale": [
             [
              0,
              "#0d0887"
             ],
             [
              0.1111111111111111,
              "#46039f"
             ],
             [
              0.2222222222222222,
              "#7201a8"
             ],
             [
              0.3333333333333333,
              "#9c179e"
             ],
             [
              0.4444444444444444,
              "#bd3786"
             ],
             [
              0.5555555555555556,
              "#d8576b"
             ],
             [
              0.6666666666666666,
              "#ed7953"
             ],
             [
              0.7777777777777778,
              "#fb9f3a"
             ],
             [
              0.8888888888888888,
              "#fdca26"
             ],
             [
              1,
              "#f0f921"
             ]
            ],
            "type": "heatmap"
           }
          ],
          "heatmapgl": [
           {
            "colorbar": {
             "outlinewidth": 0,
             "ticks": ""
            },
            "colorscale": [
             [
              0,
              "#0d0887"
             ],
             [
              0.1111111111111111,
              "#46039f"
             ],
             [
              0.2222222222222222,
              "#7201a8"
             ],
             [
              0.3333333333333333,
              "#9c179e"
             ],
             [
              0.4444444444444444,
              "#bd3786"
             ],
             [
              0.5555555555555556,
              "#d8576b"
             ],
             [
              0.6666666666666666,
              "#ed7953"
             ],
             [
              0.7777777777777778,
              "#fb9f3a"
             ],
             [
              0.8888888888888888,
              "#fdca26"
             ],
             [
              1,
              "#f0f921"
             ]
            ],
            "type": "heatmapgl"
           }
          ],
          "histogram": [
           {
            "marker": {
             "pattern": {
              "fillmode": "overlay",
              "size": 10,
              "solidity": 0.2
             }
            },
            "type": "histogram"
           }
          ],
          "histogram2d": [
           {
            "colorbar": {
             "outlinewidth": 0,
             "ticks": ""
            },
            "colorscale": [
             [
              0,
              "#0d0887"
             ],
             [
              0.1111111111111111,
              "#46039f"
             ],
             [
              0.2222222222222222,
              "#7201a8"
             ],
             [
              0.3333333333333333,
              "#9c179e"
             ],
             [
              0.4444444444444444,
              "#bd3786"
             ],
             [
              0.5555555555555556,
              "#d8576b"
             ],
             [
              0.6666666666666666,
              "#ed7953"
             ],
             [
              0.7777777777777778,
              "#fb9f3a"
             ],
             [
              0.8888888888888888,
              "#fdca26"
             ],
             [
              1,
              "#f0f921"
             ]
            ],
            "type": "histogram2d"
           }
          ],
          "histogram2dcontour": [
           {
            "colorbar": {
             "outlinewidth": 0,
             "ticks": ""
            },
            "colorscale": [
             [
              0,
              "#0d0887"
             ],
             [
              0.1111111111111111,
              "#46039f"
             ],
             [
              0.2222222222222222,
              "#7201a8"
             ],
             [
              0.3333333333333333,
              "#9c179e"
             ],
             [
              0.4444444444444444,
              "#bd3786"
             ],
             [
              0.5555555555555556,
              "#d8576b"
             ],
             [
              0.6666666666666666,
              "#ed7953"
             ],
             [
              0.7777777777777778,
              "#fb9f3a"
             ],
             [
              0.8888888888888888,
              "#fdca26"
             ],
             [
              1,
              "#f0f921"
             ]
            ],
            "type": "histogram2dcontour"
           }
          ],
          "mesh3d": [
           {
            "colorbar": {
             "outlinewidth": 0,
             "ticks": ""
            },
            "type": "mesh3d"
           }
          ],
          "parcoords": [
           {
            "line": {
             "colorbar": {
              "outlinewidth": 0,
              "ticks": ""
             }
            },
            "type": "parcoords"
           }
          ],
          "pie": [
           {
            "automargin": true,
            "type": "pie"
           }
          ],
          "scatter": [
           {
            "marker": {
             "colorbar": {
              "outlinewidth": 0,
              "ticks": ""
             }
            },
            "type": "scatter"
           }
          ],
          "scatter3d": [
           {
            "line": {
             "colorbar": {
              "outlinewidth": 0,
              "ticks": ""
             }
            },
            "marker": {
             "colorbar": {
              "outlinewidth": 0,
              "ticks": ""
             }
            },
            "type": "scatter3d"
           }
          ],
          "scattercarpet": [
           {
            "marker": {
             "colorbar": {
              "outlinewidth": 0,
              "ticks": ""
             }
            },
            "type": "scattercarpet"
           }
          ],
          "scattergeo": [
           {
            "marker": {
             "colorbar": {
              "outlinewidth": 0,
              "ticks": ""
             }
            },
            "type": "scattergeo"
           }
          ],
          "scattergl": [
           {
            "marker": {
             "colorbar": {
              "outlinewidth": 0,
              "ticks": ""
             }
            },
            "type": "scattergl"
           }
          ],
          "scattermapbox": [
           {
            "marker": {
             "colorbar": {
              "outlinewidth": 0,
              "ticks": ""
             }
            },
            "type": "scattermapbox"
           }
          ],
          "scatterpolar": [
           {
            "marker": {
             "colorbar": {
              "outlinewidth": 0,
              "ticks": ""
             }
            },
            "type": "scatterpolar"
           }
          ],
          "scatterpolargl": [
           {
            "marker": {
             "colorbar": {
              "outlinewidth": 0,
              "ticks": ""
             }
            },
            "type": "scatterpolargl"
           }
          ],
          "scatterternary": [
           {
            "marker": {
             "colorbar": {
              "outlinewidth": 0,
              "ticks": ""
             }
            },
            "type": "scatterternary"
           }
          ],
          "surface": [
           {
            "colorbar": {
             "outlinewidth": 0,
             "ticks": ""
            },
            "colorscale": [
             [
              0,
              "#0d0887"
             ],
             [
              0.1111111111111111,
              "#46039f"
             ],
             [
              0.2222222222222222,
              "#7201a8"
             ],
             [
              0.3333333333333333,
              "#9c179e"
             ],
             [
              0.4444444444444444,
              "#bd3786"
             ],
             [
              0.5555555555555556,
              "#d8576b"
             ],
             [
              0.6666666666666666,
              "#ed7953"
             ],
             [
              0.7777777777777778,
              "#fb9f3a"
             ],
             [
              0.8888888888888888,
              "#fdca26"
             ],
             [
              1,
              "#f0f921"
             ]
            ],
            "type": "surface"
           }
          ],
          "table": [
           {
            "cells": {
             "fill": {
              "color": "#EBF0F8"
             },
             "line": {
              "color": "white"
             }
            },
            "header": {
             "fill": {
              "color": "#C8D4E3"
             },
             "line": {
              "color": "white"
             }
            },
            "type": "table"
           }
          ]
         },
         "layout": {
          "annotationdefaults": {
           "arrowcolor": "#2a3f5f",
           "arrowhead": 0,
           "arrowwidth": 1
          },
          "autotypenumbers": "strict",
          "coloraxis": {
           "colorbar": {
            "outlinewidth": 0,
            "ticks": ""
           }
          },
          "colorscale": {
           "diverging": [
            [
             0,
             "#8e0152"
            ],
            [
             0.1,
             "#c51b7d"
            ],
            [
             0.2,
             "#de77ae"
            ],
            [
             0.3,
             "#f1b6da"
            ],
            [
             0.4,
             "#fde0ef"
            ],
            [
             0.5,
             "#f7f7f7"
            ],
            [
             0.6,
             "#e6f5d0"
            ],
            [
             0.7,
             "#b8e186"
            ],
            [
             0.8,
             "#7fbc41"
            ],
            [
             0.9,
             "#4d9221"
            ],
            [
             1,
             "#276419"
            ]
           ],
           "sequential": [
            [
             0,
             "#0d0887"
            ],
            [
             0.1111111111111111,
             "#46039f"
            ],
            [
             0.2222222222222222,
             "#7201a8"
            ],
            [
             0.3333333333333333,
             "#9c179e"
            ],
            [
             0.4444444444444444,
             "#bd3786"
            ],
            [
             0.5555555555555556,
             "#d8576b"
            ],
            [
             0.6666666666666666,
             "#ed7953"
            ],
            [
             0.7777777777777778,
             "#fb9f3a"
            ],
            [
             0.8888888888888888,
             "#fdca26"
            ],
            [
             1,
             "#f0f921"
            ]
           ],
           "sequentialminus": [
            [
             0,
             "#0d0887"
            ],
            [
             0.1111111111111111,
             "#46039f"
            ],
            [
             0.2222222222222222,
             "#7201a8"
            ],
            [
             0.3333333333333333,
             "#9c179e"
            ],
            [
             0.4444444444444444,
             "#bd3786"
            ],
            [
             0.5555555555555556,
             "#d8576b"
            ],
            [
             0.6666666666666666,
             "#ed7953"
            ],
            [
             0.7777777777777778,
             "#fb9f3a"
            ],
            [
             0.8888888888888888,
             "#fdca26"
            ],
            [
             1,
             "#f0f921"
            ]
           ]
          },
          "colorway": [
           "#636efa",
           "#EF553B",
           "#00cc96",
           "#ab63fa",
           "#FFA15A",
           "#19d3f3",
           "#FF6692",
           "#B6E880",
           "#FF97FF",
           "#FECB52"
          ],
          "font": {
           "color": "#2a3f5f"
          },
          "geo": {
           "bgcolor": "white",
           "lakecolor": "white",
           "landcolor": "#E5ECF6",
           "showlakes": true,
           "showland": true,
           "subunitcolor": "white"
          },
          "hoverlabel": {
           "align": "left"
          },
          "hovermode": "closest",
          "mapbox": {
           "style": "light"
          },
          "paper_bgcolor": "white",
          "plot_bgcolor": "#E5ECF6",
          "polar": {
           "angularaxis": {
            "gridcolor": "white",
            "linecolor": "white",
            "ticks": ""
           },
           "bgcolor": "#E5ECF6",
           "radialaxis": {
            "gridcolor": "white",
            "linecolor": "white",
            "ticks": ""
           }
          },
          "scene": {
           "xaxis": {
            "backgroundcolor": "#E5ECF6",
            "gridcolor": "white",
            "gridwidth": 2,
            "linecolor": "white",
            "showbackground": true,
            "ticks": "",
            "zerolinecolor": "white"
           },
           "yaxis": {
            "backgroundcolor": "#E5ECF6",
            "gridcolor": "white",
            "gridwidth": 2,
            "linecolor": "white",
            "showbackground": true,
            "ticks": "",
            "zerolinecolor": "white"
           },
           "zaxis": {
            "backgroundcolor": "#E5ECF6",
            "gridcolor": "white",
            "gridwidth": 2,
            "linecolor": "white",
            "showbackground": true,
            "ticks": "",
            "zerolinecolor": "white"
           }
          },
          "shapedefaults": {
           "line": {
            "color": "#2a3f5f"
           }
          },
          "ternary": {
           "aaxis": {
            "gridcolor": "white",
            "linecolor": "white",
            "ticks": ""
           },
           "baxis": {
            "gridcolor": "white",
            "linecolor": "white",
            "ticks": ""
           },
           "bgcolor": "#E5ECF6",
           "caxis": {
            "gridcolor": "white",
            "linecolor": "white",
            "ticks": ""
           }
          },
          "title": {
           "x": 0.05
          },
          "xaxis": {
           "automargin": true,
           "gridcolor": "white",
           "linecolor": "white",
           "ticks": "",
           "title": {
            "standoff": 15
           },
           "zerolinecolor": "white",
           "zerolinewidth": 2
          },
          "yaxis": {
           "automargin": true,
           "gridcolor": "white",
           "linecolor": "white",
           "ticks": "",
           "title": {
            "standoff": 15
           },
           "zerolinecolor": "white",
           "zerolinewidth": 2
          }
         }
        },
        "title": {
         "text": "'2020-01-01'부터 '2020-04-01'까지 주간 확진자 수와 주간 전철이용자 수 추이",
         "y": 0.5
        },
        "width": 1000,
        "xaxis": {
         "anchor": "y",
         "domain": [
          0,
          0.94
         ],
         "range": [
          "'2020-01-01'",
          "'2020-04-01'"
         ],
         "title": {
          "text": "날짜"
         }
        },
        "yaxis": {
         "anchor": "x",
         "domain": [
          0,
          1
         ],
         "title": {
          "text": "확진자 수"
         }
        },
        "yaxis2": {
         "anchor": "x",
         "overlaying": "y",
         "side": "right",
         "title": {
          "text": "전철이용자 수"
         }
        }
       }
      }
     },
     "metadata": {},
     "output_type": "display_data"
    },
    {
     "name": "stdout",
     "output_type": "stream",
     "text": [
      "\n",
      "'2020-01-01'부터 '2020-04-01'까지\n",
      "주간 확진자 수와 주간 전철이용자 수의 상관계수: -0.903\n"
     ]
    }
   ],
   "source": [
    "# 시간 범위 입력 받기\n",
    "print(\"년월일을 2회 입력하여\\n그래프에 나타낼 날짜 범위를 설정하세요.\\n형식: 'YYYY-MM-DD'\")\n",
    "start=input('시작 날짜:')\n",
    "end=input('끝 날짜:')\n",
    "df_temp=slicing(df_week,start,end)\n",
    "\n",
    "# 변수 2개 입력 받기\n",
    "feat_map={1:'corona',2:'total',3:'step'}\n",
    "label_map={1:'확진자 수',2:'전철이용자 수',3:'거리두기 단계'}\n",
    "print(\"변수를 2회 입력하여 그래프에 나타낼 변수를 설정하세요.\")\n",
    "print(\"변수 목록: 1.확진자 수 2.전철이용자 수 3.거리두기 단계\")\n",
    "print(\"숫자 한 개 씩 2회 입력\")\n",
    "a=int(input('변수1:'))\n",
    "b=int(input('변수2:'))\n",
    "feat1=feat_map[a]\n",
    "feat2=feat_map[b]\n",
    "label1=label_map[a]\n",
    "label2=label_map[b]\n",
    "\n",
    "# 그래프 그리기\n",
    "fig = go.Figure()\n",
    "fig = make_subplots(specs=[[{'secondary_y': True}]])\n",
    "\n",
    "fig.add_trace(go.Scatter(x=df_temp['date'], y= df_temp[feat1], mode='lines', name =label1, line=dict(color='royalblue', width=1)), secondary_y=False)  \n",
    "fig.add_trace(go.Scatter(x=df_temp['date'], y= df_temp[feat2], mode='lines', name =label2), secondary_y=True) \n",
    "\n",
    "fig.update_layout(autosize=False,\n",
    "                  width=1000,\n",
    "                  height=600,\n",
    "                  title='{0}부터 {1}까지 주간 {2}와 주간 {3} 추이'.format(start,end,label1,label2),\n",
    "                  xaxis_title='날짜',\n",
    "                  yaxis_title=label1,\n",
    "                  yaxis2_title=label2,\n",
    "                  title_x=0.5,\n",
    "                  # 축 range 설정(xaxis, yaxis1 yaxis2)\n",
    "                  xaxis=dict(\n",
    "                             range=[start, end]\n",
    "                  ),\n",
    "                  font=dict(\n",
    "                              family = 'Malgun Gothic',\n",
    "                              size = 12\n",
    "                  ),\n",
    "                  \n",
    "                \n",
    ")\n",
    "\n",
    "\n",
    "fig.show()\n",
    "\n",
    "# 상관계수 반올림하여 소수점 3자리까지 표시\n",
    "corr=df_temp.corr()\n",
    "print('\\n{0}부터 {1}까지\\n주간 {2}와 주간 {3}의 상관계수:'.format(start,end,label1,label2), round(corr[feat1][feat2],3))"
   ]
  },
  {
   "cell_type": "code",
   "execution_count": null,
   "id": "141aa12e",
   "metadata": {},
   "outputs": [],
   "source": []
  }
 ],
 "metadata": {
  "interpreter": {
   "hash": "b3ba2566441a7c06988d0923437866b63cedc61552a5af99d1f4fb67d367b25f"
  },
  "kernelspec": {
   "display_name": "Python 3",
   "language": "python",
   "name": "python3"
  },
  "language_info": {
   "codemirror_mode": {
    "name": "ipython",
    "version": 3
   },
   "file_extension": ".py",
   "mimetype": "text/x-python",
   "name": "python",
   "nbconvert_exporter": "python",
   "pygments_lexer": "ipython3",
   "version": "3.8.8"
  },
  "toc": {
   "base_numbering": 1,
   "nav_menu": {},
   "number_sections": true,
   "sideBar": true,
   "skip_h1_title": false,
   "title_cell": "Table of Contents",
   "title_sidebar": "Contents",
   "toc_cell": false,
   "toc_position": {},
   "toc_section_display": true,
   "toc_window_display": false
  }
 },
 "nbformat": 4,
 "nbformat_minor": 5
}
